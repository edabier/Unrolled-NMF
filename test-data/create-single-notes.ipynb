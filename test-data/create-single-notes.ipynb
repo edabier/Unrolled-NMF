{
 "cells": [
  {
   "cell_type": "code",
   "execution_count": 1,
   "id": "0f22fe17",
   "metadata": {},
   "outputs": [],
   "source": [
    "# Define the notes\n",
    "notes = [\n",
    "    'A0', 'A#0', 'B0', 'C1', 'C#1', 'D1', 'D#1', 'E1', 'F1', 'F#1', 'G1', 'G#1',\n",
    "    'A1', 'A#1', 'B1', 'C2', 'C#2', 'D2', 'D#2', 'E2', 'F2', 'F#2', 'G2', 'G#2',\n",
    "    'A2', 'A#2', 'B2', 'C3', 'C#3', 'D3', 'D#3', 'E3', 'F3', 'F#3', 'G3', 'G#3',\n",
    "    'A3', 'A#3', 'B3', 'C4', 'C#4', 'D4', 'D#4', 'E4', 'F4', 'F#4', 'G4', 'G#4',\n",
    "    'A4', 'A#4', 'B4', 'C5', 'C#5', 'D5', 'D#5', 'E5', 'F5', 'F#5', 'G5', 'G#5',\n",
    "    'A5', 'A#5', 'B5', 'C6', 'C#6', 'D6', 'D#6', 'E6', 'F6', 'F#6', 'G6', 'G#6',\n",
    "    'A6', 'A#6', 'B6', 'C7', 'C#7', 'D7', 'D#7', 'E7', 'F7', 'F#7', 'G7', 'G#7',\n",
    "    'A7', 'A#7', 'B7', 'C8'\n",
    "]"
   ]
  },
  {
   "cell_type": "code",
   "execution_count": 2,
   "id": "4ba43ae8",
   "metadata": {},
   "outputs": [
    {
     "name": "stdout",
     "output_type": "stream",
     "text": [
      "Notes have been successfully extracted and saved.\n"
     ]
    }
   ],
   "source": [
    "from pydub import AudioSegment\n",
    "\n",
    "# Load the input audio file\n",
    "audio = AudioSegment.from_wav('all-notes-2.wav')\n",
    "\n",
    "# Calculate the duration of each note in milliseconds (2 seconds)\n",
    "note_duration = 2000\n",
    "\n",
    "# Extract and save each note\n",
    "for i, note in enumerate(notes):\n",
    "    start_time = i * note_duration\n",
    "    end_time = start_time + note_duration\n",
    "    note_audio = audio[start_time:end_time]\n",
    "    note_audio.export(f'single-notes-2/{note}.wav', format='wav')\n",
    "\n",
    "print(\"Notes have been successfully extracted and saved.\")\n"
   ]
  },
  {
   "cell_type": "code",
   "execution_count": 1,
   "id": "e4b55153",
   "metadata": {},
   "outputs": [
    {
     "name": "stdout",
     "output_type": "stream",
     "text": [
      "88\n"
     ]
    }
   ],
   "source": [
    "l = []\n",
    "for i in range(0,88):\n",
    "  l.append(i)\n",
    "print(len(l))  "
   ]
  }
 ],
 "metadata": {
  "kernelspec": {
   "display_name": "amt_venv",
   "language": "python",
   "name": "python3"
  },
  "language_info": {
   "codemirror_mode": {
    "name": "ipython",
    "version": 3
   },
   "file_extension": ".py",
   "mimetype": "text/x-python",
   "name": "python",
   "nbconvert_exporter": "python",
   "pygments_lexer": "ipython3",
   "version": "3.10.8"
  }
 },
 "nbformat": 4,
 "nbformat_minor": 5
}
