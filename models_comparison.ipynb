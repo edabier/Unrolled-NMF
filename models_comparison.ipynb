{
 "cells": [
  {
   "cell_type": "code",
   "execution_count": null,
   "id": "abfb5a05",
   "metadata": {},
   "outputs": [],
   "source": [
    "import torch\n",
    "import torchaudio\n",
    "import numpy as np\n",
    "import matplotlib.pyplot as plt\n",
    "import jams\n",
    "from scipy.interpolate import interp1d\n",
    "import pretty_midi\n",
    "import torch.multiprocessing as mp\n",
    "import pandas as pd\n",
    "from sklearn.model_selection import train_test_split\n",
    "from adasp_data_management import music\n",
    "from torch.utils.data import DataLoader\n",
    "\n",
    "import src.models as models\n",
    "import src.spectrograms as spec\n",
    "import src.utils as utils\n",
    "import src.init as init\n",
    "\n",
    "\n",
    "mp.set_start_method('spawn', force=True)\n",
    "if torch.cuda.is_available():\n",
    "    dev = \"cuda:0\"\n",
    "    torch.set_default_device(dev)\n",
    "elif torch.backends.mps.is_available():\n",
    "    dev = torch.device(\"mps\")\n",
    "    torch.set_default_device(dev)\n",
    "else:\n",
    "    print(f\"{torch.cuda.is_available()}\")\n",
    "    dev = \"cpu\""
   ]
  },
  {
   "cell_type": "markdown",
   "id": "9046cd00",
   "metadata": {},
   "source": [
    "### Visualizing the $\\beta$-divergence decreasing across iterations of MU"
   ]
  },
  {
   "cell_type": "code",
   "execution_count": null,
   "id": "3c69de55",
   "metadata": {},
   "outputs": [],
   "source": [
    "from torchbd.loss import *\n",
    "\n",
    "W_path = '/home/ids/edabier/AMT/Unrolled-NMF/test-data/synth-single-notes'\n",
    "W, freqs, sample_rate, true_freqs = init.init_W(W_path, normalize_thresh=0.01)\n",
    "y, sr = torchaudio.load(\"piano-dataset/audios/example-1.wav\")\n",
    "M, times, freqs_M = spec.cqt_spec(y, sr)\n",
    "eps = torch.finfo().min\n",
    "l = W.shape[1]\n",
    "t = M.shape[1]\n",
    "H = torch.rand(l, t)\n",
    "H = torch.clamp(H, min=eps)\n",
    "H = H.to(dev)\n",
    "\n",
    "n_init_steps = 10\n",
    "divs = []\n",
    "beta_div = BetaDivLoss(beta=1, reduction='mean')\n",
    "\n",
    "for _ in range(n_init_steps):\n",
    "    \n",
    "    Wh = W @ H\n",
    "    Wh = torch.clamp(Wh, min=eps)\n",
    "    Wh_beta_minus_2 = Wh ** (1 - 2)\n",
    "    Wh_beta_minus_1 = Wh ** (1 - 1)\n",
    "    Wt = W.T\n",
    "\n",
    "    numerator = Wt @ (Wh_beta_minus_2 * M)\n",
    "    denominator = Wt @ Wh_beta_minus_1\n",
    "    denominator = torch.clamp(denominator, min=eps)\n",
    "    H = H * (numerator / denominator)\n",
    "    # H = torch.clamp(H, min=eps, max=min(1, H.max()))\n",
    "    \n",
    "    M_hat = W@H\n",
    "    div = beta_div(M_hat, M)\n",
    "    divs.append(div.cpu())\n",
    "    \n",
    "# H = torch.clamp(H, min=eps, max=min(1, H.max()))\n",
    "plt.plot(divs)\n",
    "plt.title(r'$\\beta$-div with clipping')\n",
    "divs[-1]"
   ]
  },
  {
   "cell_type": "markdown",
   "id": "1569fdf5",
   "metadata": {},
   "source": [
    "### Loading the models and visualizing the CNNs ($A_W$ and $A_H$) behavior"
   ]
  },
  {
   "cell_type": "code",
   "execution_count": 3,
   "id": "ba6cee11",
   "metadata": {},
   "outputs": [
    {
     "data": {
      "text/plain": [
       "<All keys matched successfully>"
      ]
     },
     "execution_count": 3,
     "metadata": {},
     "output_type": "execute_result"
    }
   ],
   "source": [
    "W_path = '/home/ids/edabier/AMT/Unrolled-NMF/test-data/synth-single-notes'\n",
    "# model = \"checkpoint\"\n",
    "model = \"1e-2lr_clip_10%\"\n",
    "mu = models.MU_NMF(n_iter=10, W_path=W_path)\n",
    "ralmu = models.RALMU(l=88, beta=1, W_path=W_path, hidden=16, n_iter=10, n_init_steps=1, shared=False, return_layers=False, aw_2d=False, clip_H=False, dtype=None)\n",
    "# ralmu = models.RALMU(l=88, beta=1, W_path=W_path, hidden=16, n_iter=10, n_init_steps=1, shared=True, return_layers=False, aw_2d=False, clip_H=False, dtype=None)\n",
    "ralmu = ralmu.to(dev)\n",
    "state_dict = torch.load(f'/home/ids/edabier/AMT/Unrolled-NMF/models/{model}.pt', map_location=dev)\n",
    "ralmu.load_state_dict(state_dict['model_state_dict'])"
   ]
  },
  {
   "cell_type": "code",
   "execution_count": null,
   "id": "a3518d75",
   "metadata": {},
   "outputs": [],
   "source": [
    "batch_size=1\n",
    "\n",
    "W, freqs, sample_rate, true_freqs = init.init_W(W_path, normalize_thresh=0.01)\n",
    "W = W.unsqueeze(0)\n",
    "y, sr = torchaudio.load(\"piano-dataset/audios/example-1.wav\")\n",
    "M, times, freqs_M = spec.cqt_spec(y, sr)\n",
    "midi, onset, offset, _ = spec.midi_to_pianoroll(f\"piano-dataset/midis/example-1.mid\", y, times, hop_length=128, sr=sr)\n",
    "active_midi = [i for i in range(88) if (midi[i,:]>0).any().item()]\n",
    "H = init.MIDI_to_H(midi, active_midi, onset, offset, values_range=1)\n",
    "H = H.unsqueeze(0)\n",
    "W = W.to(dev)\n",
    "H = H.to(dev)\n",
    "H_rows = [H[:, i:i+1, :] for i in range(0, 88)]\n",
    "\n",
    "for i in range(10):\n",
    "    Aw = ralmu.layers[i].Aw\n",
    "    Ah = ralmu.layers[i].Ah\n",
    "    W_hat = torch.cat([Aw(W[:, :, i]) for i in range(88)], 2)\n",
    "    H_hat = torch.cat([Ah(H_i) for H_i in H_rows], 1)\n",
    "    print(f\"W mean: {W_hat[0].mean()}, std: {W_hat[0].std()}, H mean: {H_hat[0].mean()}, std: {H_hat[0].std()}\")\n",
    "\n",
    "for i in range(len(freqs)):\n",
    "    freqs[i] = freqs[i].detach().cpu()\n",
    "\n",
    "spec.vis_cqt_spectrogram(W[0].detach().cpu(), frequencies=freqs, title=\"W\")\n",
    "spec.vis_cqt_spectrogram(W_hat[0].detach().cpu(), frequencies=freqs, title=\"W_hat\")\n",
    "spec.vis_cqt_spectrogram(H[0].detach().cpu(), frequencies=freqs, set_note_label=True, title=\"H\")\n",
    "spec.vis_cqt_spectrogram(H_hat[0].detach().cpu(), frequencies=freqs, set_note_label=True, title=\"H_hat\")"
   ]
  },
  {
   "cell_type": "markdown",
   "id": "e5c2ed3f",
   "metadata": {},
   "source": [
    "### Comparing MU and RALMU on the <ins>**train**</ins> dataset"
   ]
  },
  {
   "cell_type": "code",
   "execution_count": null,
   "id": "40fb8e96",
   "metadata": {},
   "outputs": [
    {
     "name": "stderr",
     "output_type": "stream",
     "text": [
      "/home/ids/edabier/miniconda3/envs/amt-env/lib/python3.9/site-packages/tqdm/auto.py:21: TqdmWarning: IProgress not found. Please update jupyter and ipywidgets. See https://ipywidgets.readthedocs.io/en/stable/user_install.html\n",
      "  from .autonotebook import tqdm as notebook_tqdm\n"
     ]
    },
    {
     "name": "stdout",
     "output_type": "stream",
     "text": [
      "Split the dataset - done ✓\n"
     ]
    },
    {
     "name": "stderr",
     "output_type": "stream",
     "text": [
      "16it [00:00, 20.55it/s]\n",
      "/home/ids/edabier/AMT/Unrolled-NMF/src/utils.py:252: SettingWithCopyWarning: \n",
      "A value is trying to be set on a copy of a slice from a DataFrame.\n",
      "Try using .loc[row_indexer,col_indexer] = value instead\n",
      "\n",
      "See the caveats in the documentation: https://pandas.pydata.org/pandas-docs/stable/user_guide/indexing.html#returning-a-view-versus-a-copy\n",
      "  self.metadata.loc[:,'segment_indices'] = self.compute_length()\n"
     ]
    }
   ],
   "source": [
    "split=0.8\n",
    "subset=0.1\n",
    "length = 10\n",
    "dtype = None\n",
    "eps=1e-6\n",
    "path = \"/home/ids/edabier/AMT/Unrolled-NMF/MAPS/metadata.csv\"\n",
    "\n",
    "metadata = pd.read_csv(path)\n",
    "train_data, test_data   = train_test_split(metadata, train_size=split, random_state=1)\n",
    "train_data, valid_data  = train_test_split(train_data, train_size=split, random_state=1)\n",
    "train_data = train_data.reset_index(drop=True)\n",
    "print(\"Split the dataset - done ✓\")\n",
    "\n",
    "train_set   = utils.LocalDataset(train_data, use_midi=True, fixed_length=length, subset=subset, dtype=dtype)\n",
    "train_sampler   = utils.SequentialBatchSampler(train_set, batch_size=1)\n",
    "collate_fn = utils.create_collate_fn(use_midi=True)\n",
    "train_loader    = DataLoader(train_set, batch_sampler=train_sampler, collate_fn=collate_fn)\n",
    "\n",
    "for i, (M, H, midi) in enumerate(train_loader):\n",
    "    if i == 0:\n",
    "        continue\n",
    "    elif i==1:\n",
    "        with torch.no_grad():\n",
    "            M = torch.clamp(M, min=eps)\n",
    "            M = M.squeeze(0)\n",
    "            M = M.to(dev)\n",
    "            H = H.squeeze(0)\n",
    "            H = H.to(dev)\n",
    "            midi = midi.squeeze(0)\n",
    "            midi = midi.to(dev)\n",
    "            M = M/torch.max(M)\n",
    "            H_norm, norm = spec.l1_norm(H, threshold=0.01)\n",
    "            \n",
    "            W_hat_ralmu, H_hat_ralmu, M_hat_ralmu = ralmu.forward(M, device=dev)\n",
    "            \n",
    "            W_hat_mu, H_hat_mu, M_hat_mu = mu.forward(M, device=dev)\n",
    "    break\n",
    "\n",
    "spec.vis_cqt_spectrogram(H_hat_ralmu.detach().cpu(), title=\"H_hat (RALMU)\")\n",
    "spec.vis_cqt_spectrogram(H_hat_mu.detach().cpu(), title=\"H_hat (MU 10)\")\n",
    "spec.vis_cqt_spectrogram(H.detach().cpu(), title=\"H\")"
   ]
  },
  {
   "cell_type": "code",
   "execution_count": null,
   "id": "aa66b8b5",
   "metadata": {},
   "outputs": [],
   "source": [
    "fig, axs = plt.subplots(4,3, figsize=(20,10))\n",
    "\n",
    "active_midi = [i for i in range(88) if (midi[i,:]>0).any().item()]\n",
    "\n",
    "axs[0,0].plot(H_norm[active_midi[0]].detach().cpu(), label=\"Ground truth H line\")\n",
    "axs[0,0].plot(H_hat_ralmu[active_midi[0]].detach().cpu(), label=\"RALMU predicted H line\")\n",
    "axs[0,0].plot(H_hat_mu[active_midi[0]].detach().cpu(), label=\"MU predicted H line\")\n",
    "axs[0,0].legend()\n",
    "\n",
    "axs[1,0].plot(H_norm[active_midi[1]].detach().cpu(), label=\"Ground truth H line\")\n",
    "axs[1,0].plot(H_hat_ralmu[active_midi[1]].detach().cpu(), label=\"RALMU predicted H line\")\n",
    "axs[1,0].plot(H_hat_mu[active_midi[1]].detach().cpu(), label=\"MU predicted H line\")\n",
    "axs[1,0].legend()\n",
    "\n",
    "axs[2,0].plot(H_norm[active_midi[2]].detach().cpu(), label=\"Ground truth H line\")\n",
    "axs[2,0].plot(H_hat_ralmu[active_midi[2]].detach().cpu(), label=\"RALMU predicted H line\")\n",
    "axs[2,0].plot(H_hat_mu[active_midi[2]].detach().cpu(), label=\"MU predicted H line\")\n",
    "axs[2,0].legend()\n",
    "\n",
    "axs[3,0].plot(H_norm[active_midi[3]].detach().cpu(), label=\"Ground truth H line\")\n",
    "axs[3,0].plot(H_hat_ralmu[active_midi[3]].detach().cpu(), label=\"RALMU predicted H line\")\n",
    "axs[3,0].plot(H_hat_mu[active_midi[3]].detach().cpu(), label=\"MU predicted H line\")\n",
    "axs[3,0].legend()\n",
    "\n",
    "axs[0,1].plot(H_norm[active_midi[4]].detach().cpu(), label=\"Ground truth H line\")\n",
    "axs[0,1].plot(H_hat_ralmu[active_midi[4]].detach().cpu(), label=\"RALMU predicted H line\")\n",
    "axs[0,1].plot(H_hat_mu[active_midi[4]].detach().cpu(), label=\"MU predicted H line\")\n",
    "axs[0,1].legend()\n",
    "\n",
    "axs[1,1].plot(H_norm[active_midi[5]].detach().cpu(), label=\"Ground truth H line\")\n",
    "axs[1,1].plot(H_hat_ralmu[active_midi[5]].detach().cpu(), label=\"RALMU predicted H line\")\n",
    "axs[1,1].plot(H_hat_mu[active_midi[5]].detach().cpu(), label=\"MU predicted H line\")\n",
    "axs[1,1].legend()\n",
    "\n",
    "axs[2,1].plot(H_norm[active_midi[6]].detach().cpu(), label=\"Ground truth H line\")\n",
    "axs[2,1].plot(H_hat_ralmu[active_midi[6]].detach().cpu(), label=\"RALMU predicted H line\")\n",
    "axs[2,1].plot(H_hat_mu[active_midi[6]].detach().cpu(), label=\"MU predicted H line\")\n",
    "axs[2,1].legend()\n",
    "\n",
    "axs[3,1].plot(H_norm[active_midi[7]].detach().cpu(), label=\"Ground truth H line\")\n",
    "axs[3,1].plot(H_hat_ralmu[active_midi[7]].detach().cpu(), label=\"RALMU predicted H line\")\n",
    "axs[3,1].plot(H_hat_mu[active_midi[7]].detach().cpu(), label=\"MU predicted H line\")\n",
    "axs[3,1].legend()\n",
    "\n",
    "axs[0,2].plot(H_norm[active_midi[8]].detach().cpu(), label=\"Ground truth H line\")\n",
    "axs[0,2].plot(H_hat_ralmu[active_midi[8]].detach().cpu(), label=\"RALMU predicted H line\")\n",
    "axs[0,2].plot(H_hat_mu[active_midi[8]].detach().cpu(), label=\"MU predicted H line\")\n",
    "axs[0,2].legend()\n",
    "\n",
    "axs[1,2].plot(H_norm[active_midi[9]].detach().cpu(), label=\"Ground truth H line\")\n",
    "axs[1,2].plot(H_hat_ralmu[active_midi[9]].detach().cpu(), label=\"RALMU predicted H line\")\n",
    "axs[1,2].plot(H_hat_mu[active_midi[9]].detach().cpu(), label=\"MU predicted H line\")\n",
    "axs[1,2].legend()\n",
    "\n",
    "axs[2,2].plot(H_norm[active_midi[10]].detach().cpu(), label=\"Ground truth H line\")\n",
    "axs[2,2].plot(H_hat_ralmu[active_midi[10]].detach().cpu(), label=\"RALMU predicted H line\")\n",
    "axs[2,2].plot(H_hat_mu[active_midi[10]].detach().cpu(), label=\"MU predicted H line\")\n",
    "axs[2,2].legend()\n",
    "\n",
    "axs[3,2].plot(H_norm[active_midi[11]].detach().cpu(), label=\"Ground truth H line\")\n",
    "axs[3,2].plot(H_hat_ralmu[active_midi[11]].detach().cpu(), label=\"RALMU predicted H line\")\n",
    "axs[3,2].plot(H_hat_mu[active_midi[11]].detach().cpu(), label=\"MU predicted H line\")\n",
    "axs[3,2].legend()"
   ]
  },
  {
   "cell_type": "code",
   "execution_count": null,
   "id": "8ad33368",
   "metadata": {},
   "outputs": [],
   "source": [
    "_, notes_hat_ralmu = init.W_to_pitch(W_hat_ralmu.cpu(), true_freqs=None, use_max=True)\n",
    "_, notes_hat_mu = init.W_to_pitch(W_hat_mu.cpu(), true_freqs=None, use_max=True)\n",
    "\n",
    "best_f_ralmu = 0\n",
    "best_thresh_ralmu = 0\n",
    "best_f_mu = 0\n",
    "best_thresh_ralmu = 0\n",
    "\n",
    "threshs = torch.linspace(0.01, 10, 100)\n",
    "\n",
    "for thresh in threshs:\n",
    "    midi_hat_ralmu, _ = init.WH_to_MIDI(W_hat_ralmu, H_hat_ralmu, notes_hat_ralmu, normalize=False, threshold=thresh, smoothing_window=10, min_note_length=30, sr=44100)\n",
    "    _, _, f_mes_ralmu, _ = utils.compute_metrics(midi_hat_ralmu[active_midi[:12]], midi[active_midi[:12]], time_tolerance=200)\n",
    "    \n",
    "    midi_hat_mu, _ = init.WH_to_MIDI(W_hat_mu, H_hat_mu, notes_hat_mu, normalize=False, threshold=thresh, smoothing_window=10, min_note_length=30, sr=44100)\n",
    "    _, _, f_mes_mu, _ = utils.compute_metrics(midi_hat_mu[active_midi[:12]], midi[active_midi[:12]], time_tolerance=200)\n",
    "\n",
    "    if f_mes_ralmu > best_f_ralmu:\n",
    "        best_thresh_ralmu = thresh\n",
    "        best_f_ralmu = f_mes_ralmu\n",
    "        \n",
    "    if f_mes_mu > best_f_mu:\n",
    "        best_thresh_mu = thresh\n",
    "        best_f_mu = f_mes_mu\n",
    "\n",
    "midi_hat_ralmu, _ = init.WH_to_MIDI(W_hat_ralmu, H_hat_ralmu, notes_hat_ralmu, normalize=False, threshold=best_thresh_ralmu, smoothing_window=10, min_note_length=30, sr=44100)\n",
    "midi_hat_mu, _ = init.WH_to_MIDI(W_hat_mu, H_hat_mu, notes_hat_mu, normalize=False, threshold=best_thresh_mu, smoothing_window=10, min_note_length=30, sr=44100)\n",
    "spec.compare_midi(midi[active_midi[:12]].cpu(), midi_hat_ralmu[active_midi[:12]].cpu())\n",
    "spec.compare_midi(midi[active_midi[:12]].cpu(), midi_hat_mu[active_midi[:12]].cpu())\n",
    "\n",
    "prec_ralmu, rec_ralmu, f_mes_ralmu, accuracy_ralmu = utils.compute_metrics(midi_hat_ralmu[active_midi[:12]], midi[active_midi[:12]], time_tolerance=200)\n",
    "print(\"Metrics for RALMU prediction: \", prec_ralmu, rec_ralmu, f_mes_ralmu, accuracy_ralmu)\n",
    "\n",
    "prec_mu, rec_mu, f_mes_mu, accuracy_mu = utils.compute_metrics(midi_hat_mu[active_midi[:12]], midi[active_midi[:12]], time_tolerance=200)\n",
    "print(\"Metrics for MU prediction: \", prec_mu, rec_mu, f_mes_mu, accuracy_mu)\n",
    "# spec.pianoroll_to_midi(midi_hat, \"/home/ids/edabier/AMT/Unrolled-NMF/ralmu_midi_pred.mid\", times)"
   ]
  },
  {
   "cell_type": "code",
   "execution_count": 7,
   "id": "34816e3c",
   "metadata": {},
   "outputs": [
    {
     "name": "stdout",
     "output_type": "stream",
     "text": [
      "[1055, 1310, 1723] 18\n",
      "[595, 1050, 1723] 23\n",
      "[375, 795, 865, 1723] 25\n",
      "[600, 1195, 1723] 30\n",
      "[800, 905, 1723] 33\n",
      "[805, 880, 1723] 40\n"
     ]
    },
    {
     "data": {
      "image/png": "[encoded data removed]",
      "text/plain": [
       "<Figure size 640x480 with 1 Axes>"
      ]
     },
     "metadata": {},
     "output_type": "display_data"
    }
   ],
   "source": [
    "import ruptures as rpt\n",
    "\n",
    "for i in range(H_hat_ralmu.shape[0]):\n",
    "    y = H_hat_ralmu[i].detach().cpu()\n",
    "    algo = rpt.Pelt().fit(y)\n",
    "    bkps = algo.predict(pen=2.0)\n",
    "    \n",
    "    if len(bkps) > 1:\n",
    "        print(bkps, i)\n",
    "        plt.plot(y)\n",
    "        plt.show()\n",
    "    else:\n",
    "        if bkps[0] != 1723:\n",
    "            print(bkps)"
   ]
  },
  {
   "cell_type": "code",
   "execution_count": 10,
   "id": "5d3721a9",
   "metadata": {},
   "outputs": [
    {
     "name": "stdout",
     "output_type": "stream",
     "text": [
      "18\n",
      "23\n",
      "25\n",
      "30\n",
      "37\n",
      "39\n",
      "40\n",
      "46\n",
      "47\n",
      "49\n",
      "51\n",
      "52\n"
     ]
    }
   ],
   "source": [
    "for i in range(H.shape[0]):\n",
    "    y = H[i].detach().cpu()\n",
    "    algo = rpt.Pelt().fit(y)\n",
    "    bkps = algo.predict(pen=2.0)\n",
    "    \n",
    "    if len(bkps) > 1:\n",
    "        print(i)\n",
    "        # plt.plot(y)\n",
    "        # plt.show()\n",
    "    else:\n",
    "        if bkps[0] != 1723:\n",
    "            print(bkps)"
   ]
  }
 ],
 "metadata": {
  "kernelspec": {
   "display_name": "amt-env-kernel",
   "language": "python",
   "name": "amt-env-kernel"
  },
  "language_info": {
   "codemirror_mode": {
    "name": "ipython",
    "version": 3
   },
   "file_extension": ".py",
   "mimetype": "text/x-python",
   "name": "python",
   "nbconvert_exporter": "python",
   "pygments_lexer": "ipython3",
   "version": "3.9.23"
  }
 },
 "nbformat": 4,
 "nbformat_minor": 5
}
